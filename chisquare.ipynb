{
 "cells": [
  {
   "cell_type": "markdown",
   "id": "20301993-1a5c-4915-a90b-642e077d711c",
   "metadata": {},
   "source": [
    "CHISQUARE"
   ]
  },
  {
   "cell_type": "markdown",
   "id": "5df0e60a-043a-468b-9e3a-31ed66fa9f27",
   "metadata": {},
   "source": [
    "#STATEMENTS\n",
    "\n",
    "H0 = There's  NO sIgnificant association between  (Smart Thermostats vs. Smart Lights) and the customer satisfaction level.\n",
    "\n",
    "\n",
    "Ha = There's a sIgnificant association between  (Smart Thermostats vs. Smart Lights) and the customer satisfaction level."
   ]
  },
  {
   "cell_type": "code",
   "execution_count": 1,
   "id": "273d4079-0386-4d59-b8ee-12e4fb6cc143",
   "metadata": {},
   "outputs": [
    {
     "data": {
      "text/plain": [
       "([50, 70], [80, 100], [60, 90], [30, 50], [20, 50])"
      ]
     },
     "execution_count": 1,
     "metadata": {},
     "output_type": "execute_result"
    }
   ],
   "source": [
    "#chi-square\n",
    "import pandas as pd\n",
    "data = ([50,70],[80,100],[60,90],[30,50],[20,50])\n",
    "data"
   ]
  },
  {
   "cell_type": "code",
   "execution_count": 2,
   "id": "8ab88abc-f5aa-4af2-bc2d-f486d2005986",
   "metadata": {},
   "outputs": [],
   "source": [
    "from scipy.stats import chi2_contingency\n",
    "chi,p,df,expected = chi2_contingency(data)"
   ]
  },
  {
   "cell_type": "code",
   "execution_count": 3,
   "id": "0146d308-390e-4f9e-99ac-03ef4340d9f0",
   "metadata": {},
   "outputs": [
    {
     "name": "stdout",
     "output_type": "stream",
     "text": [
      "chi2 = 5.638227513227513 \n",
      " p = 0.22784371130697179 \n",
      " df = 4\n"
     ]
    }
   ],
   "source": [
    "print(\"chi2 =\",chi,'\\n', 'p =',p ,'\\n','df =' ,df)"
   ]
  },
  {
   "cell_type": "code",
   "execution_count": 4,
   "id": "8bb8addf-7e92-4ecf-8078-0ec1198247ca",
   "metadata": {},
   "outputs": [
    {
     "data": {
      "text/plain": [
       "array([[ 48.,  72.],\n",
       "       [ 72., 108.],\n",
       "       [ 60.,  90.],\n",
       "       [ 32.,  48.],\n",
       "       [ 28.,  42.]])"
      ]
     },
     "execution_count": 4,
     "metadata": {},
     "output_type": "execute_result"
    }
   ],
   "source": [
    "expected"
   ]
  },
  {
   "cell_type": "code",
   "execution_count": 5,
   "id": "fe64c743-abc5-4df9-a4a1-7fc192c7a8ee",
   "metadata": {},
   "outputs": [
    {
     "data": {
      "text/plain": [
       "9.487729036781154"
      ]
     },
     "execution_count": 5,
     "metadata": {},
     "output_type": "execute_result"
    }
   ],
   "source": [
    "from scipy import stats\n",
    "critical_value = stats.chi2.ppf(1-0.05,4)\n",
    "critical_value"
   ]
  },
  {
   "cell_type": "code",
   "execution_count": 6,
   "id": "f5309ef3-55a7-4329-9dfa-9d1622171462",
   "metadata": {},
   "outputs": [
    {
     "name": "stdout",
     "output_type": "stream",
     "text": [
      " There is no sIgnificant association between (Smart Thermostats vs. Smart Lights) and the customer satisfaction level\n"
     ]
    }
   ],
   "source": [
    "alpha = 0.05\n",
    "if p<alpha:\n",
    "    print(' There is a sIgnificant association between (Smart Thermostats vs. Smart Lights) and the customer satisfaction level')\n",
    "else:\n",
    "    print(' There is no sIgnificant association between (Smart Thermostats vs. Smart Lights) and the customer satisfaction level')\n",
    "    "
   ]
  },
  {
   "cell_type": "code",
   "execution_count": null,
   "id": "0d576e47-70c1-4778-b397-2f93dfb5a9b2",
   "metadata": {},
   "outputs": [],
   "source": []
  }
 ],
 "metadata": {
  "kernelspec": {
   "display_name": "Python 3 (ipykernel)",
   "language": "python",
   "name": "python3"
  },
  "language_info": {
   "codemirror_mode": {
    "name": "ipython",
    "version": 3
   },
   "file_extension": ".py",
   "mimetype": "text/x-python",
   "name": "python",
   "nbconvert_exporter": "python",
   "pygments_lexer": "ipython3",
   "version": "3.11.7"
  }
 },
 "nbformat": 4,
 "nbformat_minor": 5
}
