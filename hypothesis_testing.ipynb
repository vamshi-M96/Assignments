{
 "cells": [
  {
   "cell_type": "markdown",
   "id": "45dd28f5-4755-46b2-a9eb-f53e9373da8a",
   "metadata": {},
   "source": [
    "Given model W = $1,000 + $5X.\n",
    "x is number of units produced in week.\n",
    "x follows normaldistrubution with mean mu of 600 units and \n",
    "Standard deveiation of 25 units.\n",
    "sample mean (`x`)= 3050\n"
   ]
  },
  {
   "cell_type": "code",
   "execution_count": 1,
   "id": "ec101526-4fde-4a8d-a994-1f32832abf51",
   "metadata": {},
   "outputs": [],
   "source": [
    "#given model\n",
    "# W = 1000+5*x\n"
   ]
  },
  {
   "attachments": {},
   "cell_type": "raw",
   "id": "7dbc6502-5520-41f5-86f7-e1ee828760d1",
   "metadata": {},
   "source": [
    "STATEMENTS:\n",
    "\n",
    "Null statement = weekly operation cost w = $1000 + $5x\n",
    "\n",
    "Alternative statement = Weekly operation costs are higher w > $1000 + $5x"
   ]
  },
  {
   "cell_type": "code",
   "execution_count": 2,
   "id": "9dc225b8-e8f4-462e-b917-ee4772dd0a74",
   "metadata": {},
   "outputs": [],
   "source": [
    "import numpy as np\n",
    "from scipy import stats"
   ]
  },
  {
   "cell_type": "code",
   "execution_count": 3,
   "id": "8a091bcc-f7ec-460c-a266-4c990b35dcfc",
   "metadata": {},
   "outputs": [],
   "source": [
    "#CALCULATE THE TEST STATISTICS\n",
    "#given data\n",
    "sm = 3050 #sample mean\n",
    "n =25 #sample size"
   ]
  },
  {
   "cell_type": "code",
   "execution_count": 4,
   "id": "c3cce1bb-49b0-4c50-ac1a-101c23c9325b",
   "metadata": {},
   "outputs": [
    {
     "name": "stdout",
     "output_type": "stream",
     "text": [
      "mu = 4000\n",
      "std = 125\n"
     ]
    }
   ],
   "source": [
    "#μ = theoretical mean weekly cost according to the cost model (W = $1,000 + $5X for X = 600 units)\n",
    "mu = 1000+ 5*600\n",
    "#standard deviation (σ) of 25 units weekly cost according to the cost model (W = $1,000 + $5X)\n",
    "std =  5*25\n",
    "print( 'mu =',mu)\n",
    "print('std =',std)\n"
   ]
  },
  {
   "cell_type": "code",
   "execution_count": 5,
   "id": "2f5ebc89-e8fd-4641-bedb-feae8280581d",
   "metadata": {},
   "outputs": [
    {
     "data": {
      "text/plain": [
       "-38.0"
      ]
     },
     "execution_count": 5,
     "metadata": {},
     "output_type": "execute_result"
    }
   ],
   "source": [
    "#using t statistics\n",
    "t = (sm-mu)/(std/np.sqrt(25))\n",
    "t"
   ]
  },
  {
   "cell_type": "code",
   "execution_count": 6,
   "id": "10e5d791-cde7-4821-a9c0-11b222bd0af9",
   "metadata": {},
   "outputs": [
    {
     "data": {
      "text/plain": [
       "2.9607810808177907e-23"
      ]
     },
     "execution_count": 6,
     "metadata": {},
     "output_type": "execute_result"
    }
   ],
   "source": [
    "#probability\n",
    "p = stats.t.cdf(t,df=24)\n",
    "p"
   ]
  },
  {
   "cell_type": "code",
   "execution_count": 7,
   "id": "edffc050-3464-4411-bf0a-9b2eb975687e",
   "metadata": {},
   "outputs": [
    {
     "name": "stdout",
     "output_type": "stream",
     "text": [
      "Weekly operation costs are higher w > $1000 + $5\n"
     ]
    }
   ],
   "source": [
    "alpha = 0.05\n",
    "if p <alpha:\n",
    "    print('Weekly operation costs are higher w > $1000 + $5')#Reject null statement\n",
    "else:\n",
    "    print('weekly operation cost w = $1000 + $5x')\n",
    "    "
   ]
  },
  {
   "cell_type": "code",
   "execution_count": 8,
   "id": "087e1dfe-b2e7-4c0d-98e0-a2c9f9f58702",
   "metadata": {},
   "outputs": [],
   "source": [
    "#FINDING CRITICAL VALUE OG Z NORMAL DISTRUBUTION"
   ]
  },
  {
   "cell_type": "code",
   "execution_count": 9,
   "id": "92046d99-3bfb-45bb-b8f4-04bd7c82d499",
   "metadata": {},
   "outputs": [
    {
     "data": {
      "text/plain": [
       "-7.6"
      ]
     },
     "execution_count": 9,
     "metadata": {},
     "output_type": "execute_result"
    }
   ],
   "source": [
    "z = (sm-mu)/(std)\n",
    "z"
   ]
  },
  {
   "cell_type": "code",
   "execution_count": 10,
   "id": "060bc631-a5ef-4280-9ce0-ea9d808d5670",
   "metadata": {},
   "outputs": [
    {
     "data": {
      "text/plain": [
       "1.6448536269514722"
      ]
     },
     "execution_count": 10,
     "metadata": {},
     "output_type": "execute_result"
    }
   ],
   "source": [
    "alpha=0.05\n",
    "z_critical = stats.norm.ppf(1-alpha)\n",
    "z_critical"
   ]
  },
  {
   "cell_type": "code",
   "execution_count": 11,
   "id": "fb82b75c-3262-4b8e-97cd-d7afe748f363",
   "metadata": {},
   "outputs": [
    {
     "name": "stdout",
     "output_type": "stream",
     "text": [
      "Fail to Reject Null Hypothesis\n"
     ]
    }
   ],
   "source": [
    "#Decision based on critical vqlue\n",
    "if z >  z_critical:\n",
    "    print(\"Reject Null Hypothesis\")\n",
    "else:\n",
    "  print(\"Fail to Reject Null Hypothesis\")"
   ]
  },
  {
   "cell_type": "code",
   "execution_count": 12,
   "id": "021f84e7-5f7a-4617-955f-f716915105a5",
   "metadata": {},
   "outputs": [
    {
     "name": "stdout",
     "output_type": "stream",
     "text": [
      "Conclusion:\n",
      "From the  z test we reject claim that weekly operation costs are higher.\n"
     ]
    }
   ],
   "source": [
    "#conclusion\n",
    "print(\"\"\"Conclusion:\n",
    "From the  z test we reject claim that weekly operation costs are higher.\"\"\")"
   ]
  },
  {
   "cell_type": "code",
   "execution_count": null,
   "id": "fe89331c-6988-4ce6-886a-3808170c87f3",
   "metadata": {},
   "outputs": [],
   "source": []
  }
 ],
 "metadata": {
  "kernelspec": {
   "display_name": "Python 3 (ipykernel)",
   "language": "python",
   "name": "python3"
  },
  "language_info": {
   "codemirror_mode": {
    "name": "ipython",
    "version": 3
   },
   "file_extension": ".py",
   "mimetype": "text/x-python",
   "name": "python",
   "nbconvert_exporter": "python",
   "pygments_lexer": "ipython3",
   "version": "3.11.7"
  }
 },
 "nbformat": 4,
 "nbformat_minor": 5
}
